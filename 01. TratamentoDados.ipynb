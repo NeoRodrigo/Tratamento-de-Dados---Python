{
 "cells": [
  {
   "cell_type": "code",
   "execution_count": 128,
   "id": "1630dd39",
   "metadata": {},
   "outputs": [],
   "source": [
    "import os.path\n",
    "import pandas as pd\n",
    "import numpy as np\n",
    "from datetime import date\n",
    "\n",
    "from google.auth.transport.requests import Request\n",
    "from google.oauth2.credentials import Credentials\n",
    "from google_auth_oauthlib.flow import InstalledAppFlow\n",
    "from googleapiclient.discovery import build\n",
    "from googleapiclient.errors import HttpError"
   ]
  },
  {
   "cell_type": "code",
   "execution_count": 129,
   "id": "bfa741e3",
   "metadata": {},
   "outputs": [],
   "source": [
    "# Se estiver modificando esses escopos, exclua o arquivo token.json.\n",
    "SCOPES = ['https://www.googleapis.com/auth/spreadsheets']\n",
    "\n",
    "creds = None\n",
    "\n",
    "if os.path.exists('token.json'):\n",
    "    creds = Credentials.from_authorized_user_file('token.json', SCOPES)\n",
    "\n",
    "# Se não houver credenciais (válidas) disponíveis, deixe o usuário fazer login.\n",
    "if not creds or not creds.valid:\n",
    "    if creds and creds.expired and creds.refresh_token:\n",
    "        creds.refresh(Request())\n",
    "    else:\n",
    "        flow = InstalledAppFlow.from_client_secrets_file(\n",
    "            'client_secret.json', SCOPES)\n",
    "        creds = flow.run_local_server(port=0)\n",
    "    # Salve as credenciais para a próxima execução\n",
    "    with open('token.json', 'w') as token:\n",
    "        token.write(creds.to_json())\n",
    "\n",
    "service = build('sheets', 'v4', credentials=creds)"
   ]
  },
  {
   "cell_type": "code",
   "execution_count": 130,
   "id": "71fe80cd",
   "metadata": {},
   "outputs": [],
   "source": [
    "#01.\n",
    "sheet = service.spreadsheets()\n",
    "#Digite a chave da planilha do Sheets, nome da aba e células.\n",
    "result = sheet.values().get(spreadsheetId='1d2asr_2LGq8hdDva43sIrg7FtuN4yG9mXFnUOwKcVasdw',\n",
    "                            range='Planilha1 !A1:AF').execute()  \n",
    "values = result.get('values', [])\n",
    "\n",
    "teste = pd.DataFrame(values)\n",
    "teste.columns = teste.iloc[1]\n",
    "teste = teste[2:] #Filtrando a tabela em um formato especifico\n",
    "\n",
    "#Endereço que será colado os dados em uma planilha do Execel\n",
    "prioridade_manuais.to_excel(r\"C:\\Users\\Desktop\\Teste.xlsx\")"
   ]
  }
 ],
 "metadata": {
  "kernelspec": {
   "display_name": "Python 3 (ipykernel)",
   "language": "python",
   "name": "python3"
  },
  "language_info": {
   "codemirror_mode": {
    "name": "ipython",
    "version": 3
   },
   "file_extension": ".py",
   "mimetype": "text/x-python",
   "name": "python",
   "nbconvert_exporter": "python",
   "pygments_lexer": "ipython3",
   "version": "3.9.12"
  }
 },
 "nbformat": 4,
 "nbformat_minor": 5
}
